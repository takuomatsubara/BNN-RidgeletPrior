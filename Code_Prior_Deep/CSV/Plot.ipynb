{
 "cells": [
  {
   "cell_type": "code",
   "execution_count": 5,
   "metadata": {},
   "outputs": [],
   "source": [
    "import numpy as np\n",
    "\n",
    "import os\n",
    "import argparse\n",
    "\n",
    "import torch\n",
    "from torch.nn import functional as F\n",
    "\n",
    "import pyro\n",
    "import pyro.distributions as dist\n",
    "from pyro.nn import PyroModule\n",
    "from pyro.infer import Predictive\n",
    "\n",
    "import seaborn as sns\n",
    "import matplotlib.pyplot as plt\n",
    "import matplotlib.ticker as mtick\n",
    "import matplotlib.lines as mlines"
   ]
  },
  {
   "cell_type": "code",
   "execution_count": 6,
   "metadata": {},
   "outputs": [],
   "source": [
    "MMD1 = np.genfromtxt('./L=1_K=SE_Q=Grid_SW=3.0_SB=12.0_QN=50_DN=50.csv',delimiter=',')[2]\n",
    "MMD2 = np.genfromtxt('./L=2_K=SE_Q=Grid_SW=3.0_SB=12.0_QN=50_DN=50.csv',delimiter=',')[2]\n",
    "MMD3 = np.genfromtxt('./L=3_K=SE_Q=Grid_SW=3.0_SB=12.0_QN=50_DN=50.csv',delimiter=',')[2]\n",
    "MMD4 = np.genfromtxt('./L=4_K=SE_Q=Grid_SW=3.0_SB=12.0_QN=50_DN=50.csv',delimiter=',')[2]\n",
    "MMD5 = np.genfromtxt('./L=5_K=SE_Q=Grid_SW=3.0_SB=12.0_QN=50_DN=50.csv',delimiter=',')[2]"
   ]
  },
  {
   "cell_type": "code",
   "execution_count": 7,
   "metadata": {},
   "outputs": [],
   "source": [
    "MMDs = np.c_[MMD1, MMD2, MMD3, MMD4, MMD5].T"
   ]
  },
  {
   "cell_type": "code",
   "execution_count": 8,
   "metadata": {},
   "outputs": [],
   "source": [
    "Ns_Error_np = np.array([1, 2, 3, 4, 5])\n",
    "Ns_Error_all = np.repeat(Ns_Error_np, 10)\n",
    "MRMSEs_all = MMDs.flatten()\n",
    "\n",
    "\n",
    "fig, ax = plt.subplots(figsize=(10, 6))\n",
    "\n",
    "ax.yaxis.set_major_formatter(mtick.FormatStrFormatter('%1.1f'))\n",
    "framewidth = 2.0\n",
    "ax.spines[\"top\"].set_linewidth(framewidth)\n",
    "ax.spines[\"left\"].set_linewidth(framewidth)\n",
    "ax.spines[\"right\"].set_linewidth(framewidth)\n",
    "ax.spines[\"bottom\"].set_linewidth(framewidth)\n",
    "ax.yaxis.set_major_locator(plt.MultipleLocator(0.25))\n",
    "ax.tick_params(axis='x', labelsize=28)\n",
    "ax.tick_params(axis='y', labelsize=28)\n",
    "ax.set_xlabel('L', fontsize=32)\n",
    "ax.set_ylabel(r'MMD$^2$', fontsize=32)\n",
    "ax.set_ylim(-0.1, 1.4)\n",
    "\n",
    "sns.lineplot(x=Ns_Error_all, y=MRMSEs_all, ci=\"sd\", linewidth=5, color=\"red\", err_style=\"bars\", err_kws={\"elinewidth\":3.0, \"capsize\":10.0, \"capthick\":3.0})\n",
    "\n",
    "marker = mlines.Line2D([], [], color='red', marker='+', markersize=30, linewidth=3, markeredgewidth=3, label='Standard error')\n",
    "ax.collections[0].set_label('Standard error')\n",
    "ax.legend(handles=[marker], fontsize=30)\n",
    "fig.tight_layout()\n",
    "fig.savefig('./MMD_error.png')\n",
    "plt.close(fig)"
   ]
  },
  {
   "cell_type": "code",
   "execution_count": null,
   "metadata": {},
   "outputs": [],
   "source": []
  }
 ],
 "metadata": {
  "kernelspec": {
   "display_name": "Python 3",
   "language": "python",
   "name": "python3"
  },
  "language_info": {
   "codemirror_mode": {
    "name": "ipython",
    "version": 3
   },
   "file_extension": ".py",
   "mimetype": "text/x-python",
   "name": "python",
   "nbconvert_exporter": "python",
   "pygments_lexer": "ipython3",
   "version": "3.7.6"
  }
 },
 "nbformat": 4,
 "nbformat_minor": 4
}
